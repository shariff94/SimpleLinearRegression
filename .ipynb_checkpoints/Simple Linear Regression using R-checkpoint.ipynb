{
 "cells": [
  {
   "cell_type": "code",
   "execution_count": 85,
   "metadata": {},
   "outputs": [],
   "source": [
    "# Read the dataset\n",
    "cars_data = read.csv('Toyota_SimpleReg.csv')"
   ]
  },
  {
   "cell_type": "code",
   "execution_count": 86,
   "metadata": {},
   "outputs": [
    {
     "data": {
      "text/html": [
       "<ol class=list-inline>\n",
       "\t<li>'Id'</li>\n",
       "\t<li>'Model'</li>\n",
       "\t<li>'Price'</li>\n",
       "\t<li>'Age_06_15'</li>\n",
       "</ol>\n"
      ],
      "text/latex": [
       "\\begin{enumerate*}\n",
       "\\item 'Id'\n",
       "\\item 'Model'\n",
       "\\item 'Price'\n",
       "\\item 'Age\\_06\\_15'\n",
       "\\end{enumerate*}\n"
      ],
      "text/markdown": [
       "1. 'Id'\n",
       "2. 'Model'\n",
       "3. 'Price'\n",
       "4. 'Age_06_15'\n",
       "\n",
       "\n"
      ],
      "text/plain": [
       "[1] \"Id\"        \"Model\"     \"Price\"     \"Age_06_15\""
      ]
     },
     "metadata": {},
     "output_type": "display_data"
    }
   ],
   "source": [
    "# Display the column names\n",
    "colnames(cars_data)"
   ]
  },
  {
   "cell_type": "code",
   "execution_count": 87,
   "metadata": {},
   "outputs": [],
   "source": [
    "colnames(cars_data)[4] = 'Age'"
   ]
  },
  {
   "cell_type": "code",
   "execution_count": 88,
   "metadata": {},
   "outputs": [
    {
     "name": "stdout",
     "output_type": "stream",
     "text": [
      "'data.frame':\t1436 obs. of  4 variables:\n",
      " $ Id   : int  1 2 3 4 5 6 7 8 9 10 ...\n",
      " $ Model: Factor w/ 372 levels \" TOYOTA Corolla 1.3 16V HATCHB G6 2/3-Doors\",..: 332 332 67 332 331 331 64 326 62 59 ...\n",
      " $ Price: int  13500 13750 13950 14950 13750 12950 16900 18600 21500 12950 ...\n",
      " $ Age  : int  57 57 58 60 64 66 61 64 61 57 ...\n"
     ]
    }
   ],
   "source": [
    "# Structure of the dataset\n",
    "str(cars_data)"
   ]
  },
  {
   "cell_type": "code",
   "execution_count": 89,
   "metadata": {},
   "outputs": [
    {
     "data": {
      "text/html": [
       "1436"
      ],
      "text/latex": [
       "1436"
      ],
      "text/markdown": [
       "1436"
      ],
      "text/plain": [
       "[1] 1436"
      ]
     },
     "metadata": {},
     "output_type": "display_data"
    }
   ],
   "source": [
    "# number of rows\n",
    "nrow(cars_data)"
   ]
  },
  {
   "cell_type": "code",
   "execution_count": 90,
   "metadata": {},
   "outputs": [
    {
     "data": {
      "text/html": [
       "4"
      ],
      "text/latex": [
       "4"
      ],
      "text/markdown": [
       "4"
      ],
      "text/plain": [
       "[1] 4"
      ]
     },
     "metadata": {},
     "output_type": "display_data"
    }
   ],
   "source": [
    "# number of columns\n",
    "ncol(cars_data)"
   ]
  },
  {
   "cell_type": "code",
   "execution_count": 91,
   "metadata": {},
   "outputs": [
    {
     "data": {
      "text/plain": [
       "       Id                                                         Model     \n",
       " Min.   :   1.0   TOYOTA Corolla 1.6 16V HATCHB LINEA TERRA 2/3-Doors: 107  \n",
       " 1st Qu.: 361.8   TOYOTA Corolla 1.3 16V HATCHB LINEA TERRA 2/3-Doors:  83  \n",
       " Median : 721.5   TOYOTA Corolla 1.6 16V LIFTB LINEA LUNA 4/5-Doors  :  79  \n",
       " Mean   : 721.6   TOYOTA Corolla 1.6 16V LIFTB LINEA TERRA 4/5-Doors :  70  \n",
       " 3rd Qu.:1081.2   TOYOTA Corolla 1.6 16V SEDAN LINEA TERRA 4/5-Doors :  43  \n",
       " Max.   :1442.0   TOYOTA Corolla 1.4 16V VVT I HATCHB TERRA 2/3-Doors:  42  \n",
       "                  (Other)                                            :1012  \n",
       "     Price            Age        \n",
       " Min.   : 4350   Min.   : 35.00  \n",
       " 1st Qu.: 8450   1st Qu.: 78.00  \n",
       " Median : 9900   Median : 95.00  \n",
       " Mean   :10731   Mean   : 89.95  \n",
       " 3rd Qu.:11950   3rd Qu.:104.00  \n",
       " Max.   :32500   Max.   :114.00  \n",
       "                                 "
      ]
     },
     "metadata": {},
     "output_type": "display_data"
    }
   ],
   "source": [
    "# Summary of the data\n",
    "summary(cars_data)"
   ]
  },
  {
   "cell_type": "code",
   "execution_count": 92,
   "metadata": {},
   "outputs": [
    {
     "data": {
      "text/html": [
       "0"
      ],
      "text/latex": [
       "0"
      ],
      "text/markdown": [
       "0"
      ],
      "text/plain": [
       "[1] 0"
      ]
     },
     "metadata": {},
     "output_type": "display_data"
    }
   ],
   "source": [
    "#get the number of missing values\n",
    "sum(is.na(cars_data))"
   ]
  },
  {
   "cell_type": "code",
   "execution_count": 93,
   "metadata": {},
   "outputs": [
    {
     "data": {
      "text/html": [
       "<dl class=dl-horizontal>\n",
       "\t<dt>Id</dt>\n",
       "\t\t<dd>0</dd>\n",
       "\t<dt>Model</dt>\n",
       "\t\t<dd>0</dd>\n",
       "\t<dt>Price</dt>\n",
       "\t\t<dd>0</dd>\n",
       "\t<dt>Age</dt>\n",
       "\t\t<dd>0</dd>\n",
       "</dl>\n"
      ],
      "text/latex": [
       "\\begin{description*}\n",
       "\\item[Id] 0\n",
       "\\item[Model] 0\n",
       "\\item[Price] 0\n",
       "\\item[Age] 0\n",
       "\\end{description*}\n"
      ],
      "text/markdown": [
       "Id\n",
       ":   0Model\n",
       ":   0Price\n",
       ":   0Age\n",
       ":   0\n",
       "\n"
      ],
      "text/plain": [
       "   Id Model Price   Age \n",
       "    0     0     0     0 "
      ]
     },
     "metadata": {},
     "output_type": "display_data"
    }
   ],
   "source": [
    "# Column-wise missing values\n",
    "\n",
    "colSums(is.na(cars_data))"
   ]
  },
  {
   "cell_type": "code",
   "execution_count": 94,
   "metadata": {},
   "outputs": [
    {
     "name": "stdout",
     "output_type": "stream",
     "text": [
      "'data.frame':\t1436 obs. of  2 variables:\n",
      " $ Price: int  13500 13750 13950 14950 13750 12950 16900 18600 21500 12950 ...\n",
      " $ Age  : int  57 57 58 60 64 66 61 64 61 57 ...\n"
     ]
    }
   ],
   "source": [
    "# drop the model and ID attributes\n",
    "\n",
    "drop_cols = c(\"Model\",\"Id\")\n",
    "cars_data[drop_cols] = NULL\n",
    "str(cars_data)"
   ]
  },
  {
   "cell_type": "code",
   "execution_count": 95,
   "metadata": {},
   "outputs": [
    {
     "data": {
      "text/html": [
       "<ol class=list-inline>\n",
       "\t<li>'Price'</li>\n",
       "\t<li>'Age'</li>\n",
       "</ol>\n"
      ],
      "text/latex": [
       "\\begin{enumerate*}\n",
       "\\item 'Price'\n",
       "\\item 'Age'\n",
       "\\end{enumerate*}\n"
      ],
      "text/markdown": [
       "1. 'Price'\n",
       "2. 'Age'\n",
       "\n",
       "\n"
      ],
      "text/plain": [
       "[1] \"Price\" \"Age\"  "
      ]
     },
     "metadata": {},
     "output_type": "display_data"
    }
   ],
   "source": [
    "colnames(cars_data)"
   ]
  },
  {
   "cell_type": "code",
   "execution_count": 96,
   "metadata": {},
   "outputs": [
    {
     "name": "stdout",
     "output_type": "stream",
     "text": [
      "'data.frame':\t1436 obs. of  2 variables:\n",
      " $ Price: int  13500 13750 13950 14950 13750 12950 16900 18600 21500 12950 ...\n",
      " $ Age  : int  57 57 58 60 64 66 61 64 61 57 ...\n"
     ]
    }
   ],
   "source": [
    "str(cars_data)"
   ]
  },
  {
   "cell_type": "code",
   "execution_count": 97,
   "metadata": {},
   "outputs": [
    {
     "data": {
      "image/png": "[encoded data removed]",
      "text/plain": [
       "Plot with title \"Relationship Between Age and Price of the Car\""
      ]
     },
     "metadata": {},
     "output_type": "display_data"
    }
   ],
   "source": [
    "plot(cars_data$Age, cars_data$Price, xlab = \"Age of the Car\", ylab = \"Price of the Car\", main = \"Relationship Between Age and Price of the Car\")"
   ]
  },
  {
   "cell_type": "code",
   "execution_count": 98,
   "metadata": {},
   "outputs": [
    {
     "data": {
      "text/html": [
       "<table>\n",
       "<thead><tr><th></th><th scope=col>Price</th><th scope=col>Age</th></tr></thead>\n",
       "<tbody>\n",
       "\t<tr><th scope=row>Price</th><td>13154872.10</td><td>-59136.1089</td></tr>\n",
       "\t<tr><th scope=row>Age</th><td>  -59136.11</td><td>   345.9596</td></tr>\n",
       "</tbody>\n",
       "</table>\n"
      ],
      "text/latex": [
       "\\begin{tabular}{r|ll}\n",
       "  & Price & Age\\\\\n",
       "\\hline\n",
       "\tPrice & 13154872.10 & -59136.1089\\\\\n",
       "\tAge &   -59136.11 &    345.9596\\\\\n",
       "\\end{tabular}\n"
      ],
      "text/markdown": [
       "\n",
       "| <!--/--> | Price | Age |\n",
       "|---|---|---|\n",
       "| Price | 13154872.10 | -59136.1089 |\n",
       "| Age |   -59136.11 |    345.9596 |\n",
       "\n"
      ],
      "text/plain": [
       "      Price       Age        \n",
       "Price 13154872.10 -59136.1089\n",
       "Age     -59136.11    345.9596"
      ]
     },
     "metadata": {},
     "output_type": "display_data"
    }
   ],
   "source": [
    "# Covariance of the data\n",
    "cov(cars_data)"
   ]
  },
  {
   "cell_type": "code",
   "execution_count": 99,
   "metadata": {},
   "outputs": [
    {
     "data": {
      "text/html": [
       "<table>\n",
       "<thead><tr><th></th><th scope=col>Price</th><th scope=col>Age</th></tr></thead>\n",
       "<tbody>\n",
       "\t<tr><th scope=row>Price</th><td> 1.0000000</td><td>-0.8765905</td></tr>\n",
       "\t<tr><th scope=row>Age</th><td>-0.8765905</td><td> 1.0000000</td></tr>\n",
       "</tbody>\n",
       "</table>\n"
      ],
      "text/latex": [
       "\\begin{tabular}{r|ll}\n",
       "  & Price & Age\\\\\n",
       "\\hline\n",
       "\tPrice &  1.0000000 & -0.8765905\\\\\n",
       "\tAge & -0.8765905 &  1.0000000\\\\\n",
       "\\end{tabular}\n"
      ],
      "text/markdown": [
       "\n",
       "| <!--/--> | Price | Age |\n",
       "|---|---|---|\n",
       "| Price |  1.0000000 | -0.8765905 |\n",
       "| Age | -0.8765905 |  1.0000000 |\n",
       "\n"
      ],
      "text/plain": [
       "      Price      Age       \n",
       "Price  1.0000000 -0.8765905\n",
       "Age   -0.8765905  1.0000000"
      ]
     },
     "metadata": {},
     "output_type": "display_data"
    }
   ],
   "source": [
    "# Correlation\n",
    "cor_data = cor(cars_data)\n",
    "cor_data"
   ]
  },
  {
   "cell_type": "code",
   "execution_count": 100,
   "metadata": {},
   "outputs": [
    {
     "name": "stderr",
     "output_type": "stream",
     "text": [
      "Installing package into 'C:/Users/Syed Shariff/Documents/R/win-library/3.6'\n",
      "(as 'lib' is unspecified)\n",
      "Warning message:\n",
      "\"package 'corrplot' is in use and will not be installed\""
     ]
    }
   ],
   "source": [
    "install.packages(\"corrplot\")"
   ]
  },
  {
   "cell_type": "code",
   "execution_count": 101,
   "metadata": {},
   "outputs": [],
   "source": [
    "library(corrplot)"
   ]
  },
  {
   "cell_type": "code",
   "execution_count": 102,
   "metadata": {},
   "outputs": [
    {
     "data": {
      "image/png": "[encoded data removed]",
      "text/plain": [
       "Plot with title \"\""
      ]
     },
     "metadata": {},
     "output_type": "display_data"
    }
   ],
   "source": [
    "#correlation plot\n",
    "corrplot(cor_data,method=\"number\")"
   ]
  },
  {
   "cell_type": "code",
   "execution_count": 103,
   "metadata": {},
   "outputs": [
    {
     "data": {
      "image/png": "[encoded data removed]",
      "text/plain": [
       "Plot with title \"\""
      ]
     },
     "metadata": {},
     "output_type": "display_data"
    }
   ],
   "source": [
    "#correlation plot\n",
    "corrplot(cor_data,method=\"ellipse\")"
   ]
  },
  {
   "cell_type": "code",
   "execution_count": 104,
   "metadata": {},
   "outputs": [
    {
     "data": {
      "image/png": "[encoded data removed]",
      "text/plain": [
       "Plot with title \"\""
      ]
     },
     "metadata": {},
     "output_type": "display_data"
    }
   ],
   "source": [
    "#correlation plot\n",
    "corrplot(cor_data,method=\"color\")"
   ]
  },
  {
   "cell_type": "code",
   "execution_count": 105,
   "metadata": {},
   "outputs": [],
   "source": [
    "help(corrplot)"
   ]
  },
  {
   "cell_type": "code",
   "execution_count": 106,
   "metadata": {},
   "outputs": [],
   "source": [
    "set.seed(123)"
   ]
  },
  {
   "cell_type": "code",
   "execution_count": 107,
   "metadata": {},
   "outputs": [],
   "source": [
    "library(caret)"
   ]
  },
  {
   "cell_type": "code",
   "execution_count": 108,
   "metadata": {},
   "outputs": [],
   "source": [
    "# Consider the data and build partition\n",
    "trainIndex = createDataPartition(cars_data$Price, p = 0.7, list = FALSE)"
   ]
  },
  {
   "cell_type": "code",
   "execution_count": 109,
   "metadata": {},
   "outputs": [],
   "source": [
    "# Split train and test data\n",
    "cars_train = cars_data[trainIndexc,]\n",
    "cars_test = cars_data[-trainIndex,]"
   ]
  },
  {
   "cell_type": "code",
   "execution_count": 110,
   "metadata": {},
   "outputs": [],
   "source": [
    "# Build the model\n",
    "LinReg = lm(Price ~ Age, data = cars_train)"
   ]
  },
  {
   "cell_type": "code",
   "execution_count": 114,
   "metadata": {},
   "outputs": [
    {
     "data": {
      "text/html": [
       "<dl class=dl-horizontal>\n",
       "\t<dt>(Intercept)</dt>\n",
       "\t\t<dd>26206.1015612818</dd>\n",
       "\t<dt>Age</dt>\n",
       "\t\t<dd>-171.960306058779</dd>\n",
       "</dl>\n"
      ],
      "text/latex": [
       "\\begin{description*}\n",
       "\\item[(Intercept)] 26206.1015612818\n",
       "\\item[Age] -171.960306058779\n",
       "\\end{description*}\n"
      ],
      "text/markdown": [
       "(Intercept)\n",
       ":   26206.1015612818Age\n",
       ":   -171.960306058779\n",
       "\n"
      ],
      "text/plain": [
       "(Intercept)         Age \n",
       " 26206.1016   -171.9603 "
      ]
     },
     "metadata": {},
     "output_type": "display_data"
    }
   ],
   "source": [
    "coefficients(LinReg)"
   ]
  },
  {
   "cell_type": "code",
   "execution_count": 119,
   "metadata": {},
   "outputs": [
    {
     "data": {
      "text/plain": [
       "\n",
       "Call:\n",
       "lm(formula = Price ~ Age, data = cars_train)\n",
       "\n",
       "Residuals:\n",
       "    Min      1Q  Median      3Q     Max \n",
       "-8043.2  -996.1   -56.3   821.7 12828.4 \n",
       "\n",
       "Coefficients:\n",
       "             Estimate Std. Error t value Pr(>|t|)    \n",
       "(Intercept) 26206.102    268.584   97.57   <2e-16 ***\n",
       "Age          -171.960      2.932  -58.66   <2e-16 ***\n",
       "---\n",
       "Signif. codes:  0 '***' 0.001 '**' 0.01 '*' 0.05 '.' 0.1 ' ' 1\n",
       "\n",
       "Residual standard error: 1754 on 1005 degrees of freedom\n",
       "Multiple R-squared:  0.7739,\tAdjusted R-squared:  0.7737 \n",
       "F-statistic:  3441 on 1 and 1005 DF,  p-value: < 2.2e-16\n"
      ]
     },
     "metadata": {},
     "output_type": "display_data"
    }
   ],
   "source": [
    "#summarise the Linear Regression\n",
    "\n",
    "summary(LinReg)"
   ]
  },
  {
   "cell_type": "markdown",
   "metadata": {},
   "source": [
    "## Residual Analysis"
   ]
  },
  {
   "cell_type": "code",
   "execution_count": 120,
   "metadata": {},
   "outputs": [
    {
     "data": {
      "text/html": [
       "<dl class=dl-horizontal>\n",
       "\t<dt>2</dt>\n",
       "\t\t<dd>-2654.36411593145</dd>\n",
       "\t<dt>3</dt>\n",
       "\t\t<dd>-2282.40380987263</dd>\n",
       "\t<dt>4</dt>\n",
       "\t\t<dd>-938.483197755079</dd>\n",
       "\t<dt>5</dt>\n",
       "\t\t<dd>-1450.64197351996</dd>\n",
       "\t<dt>6</dt>\n",
       "\t\t<dd>-1906.72136140241</dd>\n",
       "\t<dt>8</dt>\n",
       "\t\t<dd>3399.35802648004</dd>\n",
       "</dl>\n"
      ],
      "text/latex": [
       "\\begin{description*}\n",
       "\\item[2] -2654.36411593145\n",
       "\\item[3] -2282.40380987263\n",
       "\\item[4] -938.483197755079\n",
       "\\item[5] -1450.64197351996\n",
       "\\item[6] -1906.72136140241\n",
       "\\item[8] 3399.35802648004\n",
       "\\end{description*}\n"
      ],
      "text/markdown": [
       "2\n",
       ":   -2654.364115931453\n",
       ":   -2282.403809872634\n",
       ":   -938.4831977550795\n",
       ":   -1450.641973519966\n",
       ":   -1906.721361402418\n",
       ":   3399.35802648004\n",
       "\n"
      ],
      "text/plain": [
       "         2          3          4          5          6          8 \n",
       "-2654.3641 -2282.4038  -938.4832 -1450.6420 -1906.7214  3399.3580 "
      ]
     },
     "metadata": {},
     "output_type": "display_data"
    }
   ],
   "source": [
    "# To extract the residual\n",
    "head(LinReg$residuals)"
   ]
  },
  {
   "cell_type": "code",
   "execution_count": 122,
   "metadata": {},
   "outputs": [
    {
     "data": {
      "text/html": [
       "<dl class=dl-horizontal>\n",
       "\t<dt>2</dt>\n",
       "\t\t<dd>16404.3641159314</dd>\n",
       "\t<dt>3</dt>\n",
       "\t\t<dd>16232.4038098726</dd>\n",
       "\t<dt>4</dt>\n",
       "\t\t<dd>15888.4831977551</dd>\n",
       "\t<dt>5</dt>\n",
       "\t\t<dd>15200.64197352</dd>\n",
       "\t<dt>6</dt>\n",
       "\t\t<dd>14856.7213614024</dd>\n",
       "\t<dt>8</dt>\n",
       "\t\t<dd>15200.64197352</dd>\n",
       "</dl>\n"
      ],
      "text/latex": [
       "\\begin{description*}\n",
       "\\item[2] 16404.3641159314\n",
       "\\item[3] 16232.4038098726\n",
       "\\item[4] 15888.4831977551\n",
       "\\item[5] 15200.64197352\n",
       "\\item[6] 14856.7213614024\n",
       "\\item[8] 15200.64197352\n",
       "\\end{description*}\n"
      ],
      "text/markdown": [
       "2\n",
       ":   16404.36411593143\n",
       ":   16232.40380987264\n",
       ":   15888.48319775515\n",
       ":   15200.641973526\n",
       ":   14856.72136140248\n",
       ":   15200.64197352\n",
       "\n"
      ],
      "text/plain": [
       "       2        3        4        5        6        8 \n",
       "16404.36 16232.40 15888.48 15200.64 14856.72 15200.64 "
      ]
     },
     "metadata": {},
     "output_type": "display_data"
    }
   ],
   "source": [
    "# To fitted Predictions\n",
    "head(LinReg$fitted.values)"
   ]
  },
  {
   "cell_type": "code",
   "execution_count": 126,
   "metadata": {},
   "outputs": [
    {
     "data": {
      "image/png": "[encoded data removed]",
      "text/plain": [
       "Plot with title \"\""
      ]
     },
     "metadata": {},
     "output_type": "display_data"
    }
   ],
   "source": [
    "# helps set the graphic parameters\n",
    "par(mfrow = c(2,2))\n",
    "# Check for validity of linear regression assumptions\n",
    "plot(LinReg, col = 'light green') "
   ]
  },
  {
   "cell_type": "code",
   "execution_count": null,
   "metadata": {},
   "outputs": [],
   "source": []
  }
 ],
 "metadata": {
  "kernelspec": {
   "display_name": "R",
   "language": "R",
   "name": "ir"
  },
  "language_info": {
   "codemirror_mode": "r",
   "file_extension": ".r",
   "mimetype": "text/x-r-source",
   "name": "R",
   "pygments_lexer": "r",
   "version": "3.6.1"
  }
 },
 "nbformat": 4,
 "nbformat_minor": 2
}
