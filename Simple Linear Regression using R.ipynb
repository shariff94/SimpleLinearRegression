{
 "cells": [
  {
   "cell_type": "code",
   "execution_count": 1,
   "metadata": {},
   "outputs": [],
   "source": [
    "# Read the dataset\n",
    "cars_data = read.csv('Toyota_SimpleReg.csv')"
   ]
  },
  {
   "cell_type": "code",
   "execution_count": 3,
   "metadata": {},
   "outputs": [
    {
     "data": {
      "text/html": [
       "<ol class=list-inline>\n",
       "\t<li>'Id'</li>\n",
       "\t<li>'Model'</li>\n",
       "\t<li>'Price'</li>\n",
       "\t<li>'Age_06_15'</li>\n",
       "</ol>\n"
      ],
      "text/latex": [
       "\\begin{enumerate*}\n",
       "\\item 'Id'\n",
       "\\item 'Model'\n",
       "\\item 'Price'\n",
       "\\item 'Age\\_06\\_15'\n",
       "\\end{enumerate*}\n"
      ],
      "text/markdown": [
       "1. 'Id'\n",
       "2. 'Model'\n",
       "3. 'Price'\n",
       "4. 'Age_06_15'\n",
       "\n",
       "\n"
      ],
      "text/plain": [
       "[1] \"Id\"        \"Model\"     \"Price\"     \"Age_06_15\""
      ]
     },
     "metadata": {},
     "output_type": "display_data"
    }
   ],
   "source": [
    "# Display the column names\n",
    "colnames(cars_data)"
   ]
  },
  {
   "cell_type": "code",
   "execution_count": 4,
   "metadata": {},
   "outputs": [
    {
     "name": "stdout",
     "output_type": "stream",
     "text": [
      "'data.frame':\t1436 obs. of  4 variables:\n",
      " $ Id       : int  1 2 3 4 5 6 7 8 9 10 ...\n",
      " $ Model    : Factor w/ 372 levels \" TOYOTA Corolla 1.3 16V HATCHB G6 2/3-Doors\",..: 332 332 67 332 331 331 64 326 62 59 ...\n",
      " $ Price    : int  13500 13750 13950 14950 13750 12950 16900 18600 21500 12950 ...\n",
      " $ Age_06_15: int  57 57 58 60 64 66 61 64 61 57 ...\n"
     ]
    }
   ],
   "source": [
    "# Structure of the dataset\n",
    "str(cars_data)"
   ]
  },
  {
   "cell_type": "code",
   "execution_count": 7,
   "metadata": {},
   "outputs": [
    {
     "data": {
      "text/html": [
       "1436"
      ],
      "text/latex": [
       "1436"
      ],
      "text/markdown": [
       "1436"
      ],
      "text/plain": [
       "[1] 1436"
      ]
     },
     "metadata": {},
     "output_type": "display_data"
    }
   ],
   "source": [
    "# number of rows\n",
    "nrow(cars_data)"
   ]
  },
  {
   "cell_type": "code",
   "execution_count": 8,
   "metadata": {},
   "outputs": [
    {
     "data": {
      "text/html": [
       "4"
      ],
      "text/latex": [
       "4"
      ],
      "text/markdown": [
       "4"
      ],
      "text/plain": [
       "[1] 4"
      ]
     },
     "metadata": {},
     "output_type": "display_data"
    }
   ],
   "source": [
    "# number of columns\n",
    "ncol(cars_data)"
   ]
  },
  {
   "cell_type": "code",
   "execution_count": 9,
   "metadata": {},
   "outputs": [
    {
     "data": {
      "text/plain": [
       "       Id                                                         Model     \n",
       " Min.   :   1.0   TOYOTA Corolla 1.6 16V HATCHB LINEA TERRA 2/3-Doors: 107  \n",
       " 1st Qu.: 361.8   TOYOTA Corolla 1.3 16V HATCHB LINEA TERRA 2/3-Doors:  83  \n",
       " Median : 721.5   TOYOTA Corolla 1.6 16V LIFTB LINEA LUNA 4/5-Doors  :  79  \n",
       " Mean   : 721.6   TOYOTA Corolla 1.6 16V LIFTB LINEA TERRA 4/5-Doors :  70  \n",
       " 3rd Qu.:1081.2   TOYOTA Corolla 1.6 16V SEDAN LINEA TERRA 4/5-Doors :  43  \n",
       " Max.   :1442.0   TOYOTA Corolla 1.4 16V VVT I HATCHB TERRA 2/3-Doors:  42  \n",
       "                  (Other)                                            :1012  \n",
       "     Price         Age_06_15     \n",
       " Min.   : 4350   Min.   : 35.00  \n",
       " 1st Qu.: 8450   1st Qu.: 78.00  \n",
       " Median : 9900   Median : 95.00  \n",
       " Mean   :10731   Mean   : 89.95  \n",
       " 3rd Qu.:11950   3rd Qu.:104.00  \n",
       " Max.   :32500   Max.   :114.00  \n",
       "                                 "
      ]
     },
     "metadata": {},
     "output_type": "display_data"
    }
   ],
   "source": [
    "# Summary of the data\n",
    "summary(cars_data)"
   ]
  },
  {
   "cell_type": "code",
   "execution_count": null,
   "metadata": {},
   "outputs": [],
   "source": []
  }
 ],
 "metadata": {
  "kernelspec": {
   "display_name": "R",
   "language": "R",
   "name": "ir"
  },
  "language_info": {
   "codemirror_mode": "r",
   "file_extension": ".r",
   "mimetype": "text/x-r-source",
   "name": "R",
   "pygments_lexer": "r",
   "version": "3.6.1"
  }
 },
 "nbformat": 4,
 "nbformat_minor": 2
}
