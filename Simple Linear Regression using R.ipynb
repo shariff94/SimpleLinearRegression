{
 "cells": [
  {
   "cell_type": "code",
   "execution_count": 27,
   "metadata": {},
   "outputs": [],
   "source": [
    "# Read the dataset\n",
    "cars_data = read.csv('Toyota_SimpleReg.csv')"
   ]
  },
  {
   "cell_type": "code",
   "execution_count": 28,
   "metadata": {},
   "outputs": [
    {
     "data": {
      "text/html": [
       "<ol class=list-inline>\n",
       "\t<li>'Id'</li>\n",
       "\t<li>'Model'</li>\n",
       "\t<li>'Price'</li>\n",
       "\t<li>'Age_06_15'</li>\n",
       "</ol>\n"
      ],
      "text/latex": [
       "\\begin{enumerate*}\n",
       "\\item 'Id'\n",
       "\\item 'Model'\n",
       "\\item 'Price'\n",
       "\\item 'Age\\_06\\_15'\n",
       "\\end{enumerate*}\n"
      ],
      "text/markdown": [
       "1. 'Id'\n",
       "2. 'Model'\n",
       "3. 'Price'\n",
       "4. 'Age_06_15'\n",
       "\n",
       "\n"
      ],
      "text/plain": [
       "[1] \"Id\"        \"Model\"     \"Price\"     \"Age_06_15\""
      ]
     },
     "metadata": {},
     "output_type": "display_data"
    }
   ],
   "source": [
    "# Display the column names\n",
    "colnames(cars_data)"
   ]
  },
  {
   "cell_type": "code",
   "execution_count": 29,
   "metadata": {},
   "outputs": [
    {
     "name": "stdout",
     "output_type": "stream",
     "text": [
      "'data.frame':\t1436 obs. of  4 variables:\n",
      " $ Id       : int  1 2 3 4 5 6 7 8 9 10 ...\n",
      " $ Model    : Factor w/ 372 levels \" TOYOTA Corolla 1.3 16V HATCHB G6 2/3-Doors\",..: 332 332 67 332 331 331 64 326 62 59 ...\n",
      " $ Price    : int  13500 13750 13950 14950 13750 12950 16900 18600 21500 12950 ...\n",
      " $ Age_06_15: int  57 57 58 60 64 66 61 64 61 57 ...\n"
     ]
    }
   ],
   "source": [
    "# Structure of the dataset\n",
    "str(cars_data)"
   ]
  },
  {
   "cell_type": "code",
   "execution_count": 30,
   "metadata": {},
   "outputs": [
    {
     "data": {
      "text/html": [
       "1436"
      ],
      "text/latex": [
       "1436"
      ],
      "text/markdown": [
       "1436"
      ],
      "text/plain": [
       "[1] 1436"
      ]
     },
     "metadata": {},
     "output_type": "display_data"
    }
   ],
   "source": [
    "# number of rows\n",
    "nrow(cars_data)"
   ]
  },
  {
   "cell_type": "code",
   "execution_count": 31,
   "metadata": {},
   "outputs": [
    {
     "data": {
      "text/html": [
       "4"
      ],
      "text/latex": [
       "4"
      ],
      "text/markdown": [
       "4"
      ],
      "text/plain": [
       "[1] 4"
      ]
     },
     "metadata": {},
     "output_type": "display_data"
    }
   ],
   "source": [
    "# number of columns\n",
    "ncol(cars_data)"
   ]
  },
  {
   "cell_type": "code",
   "execution_count": 32,
   "metadata": {},
   "outputs": [
    {
     "data": {
      "text/plain": [
       "       Id                                                         Model     \n",
       " Min.   :   1.0   TOYOTA Corolla 1.6 16V HATCHB LINEA TERRA 2/3-Doors: 107  \n",
       " 1st Qu.: 361.8   TOYOTA Corolla 1.3 16V HATCHB LINEA TERRA 2/3-Doors:  83  \n",
       " Median : 721.5   TOYOTA Corolla 1.6 16V LIFTB LINEA LUNA 4/5-Doors  :  79  \n",
       " Mean   : 721.6   TOYOTA Corolla 1.6 16V LIFTB LINEA TERRA 4/5-Doors :  70  \n",
       " 3rd Qu.:1081.2   TOYOTA Corolla 1.6 16V SEDAN LINEA TERRA 4/5-Doors :  43  \n",
       " Max.   :1442.0   TOYOTA Corolla 1.4 16V VVT I HATCHB TERRA 2/3-Doors:  42  \n",
       "                  (Other)                                            :1012  \n",
       "     Price         Age_06_15     \n",
       " Min.   : 4350   Min.   : 35.00  \n",
       " 1st Qu.: 8450   1st Qu.: 78.00  \n",
       " Median : 9900   Median : 95.00  \n",
       " Mean   :10731   Mean   : 89.95  \n",
       " 3rd Qu.:11950   3rd Qu.:104.00  \n",
       " Max.   :32500   Max.   :114.00  \n",
       "                                 "
      ]
     },
     "metadata": {},
     "output_type": "display_data"
    }
   ],
   "source": [
    "# Summary of the data\n",
    "summary(cars_data)"
   ]
  },
  {
   "cell_type": "code",
   "execution_count": 33,
   "metadata": {},
   "outputs": [
    {
     "data": {
      "text/html": [
       "0"
      ],
      "text/latex": [
       "0"
      ],
      "text/markdown": [
       "0"
      ],
      "text/plain": [
       "[1] 0"
      ]
     },
     "metadata": {},
     "output_type": "display_data"
    }
   ],
   "source": [
    "#get the number of missing values\n",
    "sum(is.na(cars_data))"
   ]
  },
  {
   "cell_type": "code",
   "execution_count": 34,
   "metadata": {},
   "outputs": [
    {
     "data": {
      "text/html": [
       "<dl class=dl-horizontal>\n",
       "\t<dt>Id</dt>\n",
       "\t\t<dd>0</dd>\n",
       "\t<dt>Model</dt>\n",
       "\t\t<dd>0</dd>\n",
       "\t<dt>Price</dt>\n",
       "\t\t<dd>0</dd>\n",
       "\t<dt>Age_06_15</dt>\n",
       "\t\t<dd>0</dd>\n",
       "</dl>\n"
      ],
      "text/latex": [
       "\\begin{description*}\n",
       "\\item[Id] 0\n",
       "\\item[Model] 0\n",
       "\\item[Price] 0\n",
       "\\item[Age\\textbackslash{}\\_06\\textbackslash{}\\_15] 0\n",
       "\\end{description*}\n"
      ],
      "text/markdown": [
       "Id\n",
       ":   0Model\n",
       ":   0Price\n",
       ":   0Age_06_15\n",
       ":   0\n",
       "\n"
      ],
      "text/plain": [
       "       Id     Model     Price Age_06_15 \n",
       "        0         0         0         0 "
      ]
     },
     "metadata": {},
     "output_type": "display_data"
    }
   ],
   "source": [
    "# Column-wise missing values\n",
    "\n",
    "colSums(is.na(cars_data))"
   ]
  },
  {
   "cell_type": "code",
   "execution_count": 39,
   "metadata": {},
   "outputs": [
    {
     "name": "stdout",
     "output_type": "stream",
     "text": [
      "'data.frame':\t1436 obs. of  2 variables:\n",
      " $ Price    : int  13500 13750 13950 14950 13750 12950 16900 18600 21500 12950 ...\n",
      " $ Age_06_15: int  57 57 58 60 64 66 61 64 61 57 ...\n"
     ]
    }
   ],
   "source": [
    "# drop the model and ID attributes\n",
    "\n",
    "drop_cols = c(\"Model\",\"Id\")\n",
    "cars_data[drop_cols] = NULL\n",
    "str(cars_data)"
   ]
  },
  {
   "cell_type": "code",
   "execution_count": 40,
   "metadata": {},
   "outputs": [
    {
     "data": {
      "text/html": [
       "<ol class=list-inline>\n",
       "\t<li>'Price'</li>\n",
       "\t<li>'Age_06_15'</li>\n",
       "</ol>\n"
      ],
      "text/latex": [
       "\\begin{enumerate*}\n",
       "\\item 'Price'\n",
       "\\item 'Age\\_06\\_15'\n",
       "\\end{enumerate*}\n"
      ],
      "text/markdown": [
       "1. 'Price'\n",
       "2. 'Age_06_15'\n",
       "\n",
       "\n"
      ],
      "text/plain": [
       "[1] \"Price\"     \"Age_06_15\""
      ]
     },
     "metadata": {},
     "output_type": "display_data"
    }
   ],
   "source": [
    "colnames(cars_data)"
   ]
  },
  {
   "cell_type": "code",
   "execution_count": 42,
   "metadata": {},
   "outputs": [
    {
     "name": "stdout",
     "output_type": "stream",
     "text": [
      "'data.frame':\t1436 obs. of  2 variables:\n",
      " $ Price    : int  13500 13750 13950 14950 13750 12950 16900 18600 21500 12950 ...\n",
      " $ Age_06_15: int  57 57 58 60 64 66 61 64 61 57 ...\n"
     ]
    }
   ],
   "source": [
    "str(cars_data)"
   ]
  },
  {
   "cell_type": "code",
   "execution_count": 56,
   "metadata": {},
   "outputs": [
    {
     "data": {
      "image/png": "[encoded data removed]",
      "text/plain": [
       "Plot with title \"Relationship Between Age and Price of the Car\""
      ]
     },
     "metadata": {},
     "output_type": "display_data"
    }
   ],
   "source": [
    "plot(cars_data$Age, cars_data$Price, xlab = \"Age of the Car\", ylab = \"Price of the Car\", main = \"Relationship Between Age and Price of the Car\")"
   ]
  },
  {
   "cell_type": "code",
   "execution_count": 57,
   "metadata": {},
   "outputs": [
    {
     "data": {
      "text/html": [
       "<table>\n",
       "<thead><tr><th></th><th scope=col>Price</th><th scope=col>Age_06_15</th></tr></thead>\n",
       "<tbody>\n",
       "\t<tr><th scope=row>Price</th><td>13154872.10</td><td>-59136.1089</td></tr>\n",
       "\t<tr><th scope=row>Age_06_15</th><td>  -59136.11</td><td>   345.9596</td></tr>\n",
       "</tbody>\n",
       "</table>\n"
      ],
      "text/latex": [
       "\\begin{tabular}{r|ll}\n",
       "  & Price & Age\\_06\\_15\\\\\n",
       "\\hline\n",
       "\tPrice & 13154872.10 & -59136.1089\\\\\n",
       "\tAge\\_06\\_15 &   -59136.11 &    345.9596\\\\\n",
       "\\end{tabular}\n"
      ],
      "text/markdown": [
       "\n",
       "| <!--/--> | Price | Age_06_15 |\n",
       "|---|---|---|\n",
       "| Price | 13154872.10 | -59136.1089 |\n",
       "| Age_06_15 |   -59136.11 |    345.9596 |\n",
       "\n"
      ],
      "text/plain": [
       "          Price       Age_06_15  \n",
       "Price     13154872.10 -59136.1089\n",
       "Age_06_15   -59136.11    345.9596"
      ]
     },
     "metadata": {},
     "output_type": "display_data"
    }
   ],
   "source": [
    "# Covariance of the data\n",
    "cov(cars_data)"
   ]
  },
  {
   "cell_type": "code",
   "execution_count": 59,
   "metadata": {},
   "outputs": [
    {
     "data": {
      "text/html": [
       "<table>\n",
       "<thead><tr><th></th><th scope=col>Price</th><th scope=col>Age_06_15</th></tr></thead>\n",
       "<tbody>\n",
       "\t<tr><th scope=row>Price</th><td> 1.0000000</td><td>-0.8765905</td></tr>\n",
       "\t<tr><th scope=row>Age_06_15</th><td>-0.8765905</td><td> 1.0000000</td></tr>\n",
       "</tbody>\n",
       "</table>\n"
      ],
      "text/latex": [
       "\\begin{tabular}{r|ll}\n",
       "  & Price & Age\\_06\\_15\\\\\n",
       "\\hline\n",
       "\tPrice &  1.0000000 & -0.8765905\\\\\n",
       "\tAge\\_06\\_15 & -0.8765905 &  1.0000000\\\\\n",
       "\\end{tabular}\n"
      ],
      "text/markdown": [
       "\n",
       "| <!--/--> | Price | Age_06_15 |\n",
       "|---|---|---|\n",
       "| Price |  1.0000000 | -0.8765905 |\n",
       "| Age_06_15 | -0.8765905 |  1.0000000 |\n",
       "\n"
      ],
      "text/plain": [
       "          Price      Age_06_15 \n",
       "Price      1.0000000 -0.8765905\n",
       "Age_06_15 -0.8765905  1.0000000"
      ]
     },
     "metadata": {},
     "output_type": "display_data"
    }
   ],
   "source": [
    "# Correlation\n",
    "cor_data = cor(cars_data)\n",
    "cor_data"
   ]
  },
  {
   "cell_type": "code",
   "execution_count": 60,
   "metadata": {},
   "outputs": [
    {
     "name": "stderr",
     "output_type": "stream",
     "text": [
      "Installing package into 'C:/Users/Syed Shariff/Documents/R/win-library/3.6'\n",
      "(as 'lib' is unspecified)\n"
     ]
    },
    {
     "name": "stdout",
     "output_type": "stream",
     "text": [
      "package 'corrplot' successfully unpacked and MD5 sums checked\n",
      "\n",
      "The downloaded binary packages are in\n",
      "\tC:\\Users\\Syed Shariff\\AppData\\Local\\Temp\\Rtmp0AcuMT\\downloaded_packages\n"
     ]
    }
   ],
   "source": [
    "install.packages(\"corrplot\")"
   ]
  },
  {
   "cell_type": "code",
   "execution_count": 61,
   "metadata": {},
   "outputs": [
    {
     "name": "stderr",
     "output_type": "stream",
     "text": [
      "Warning message:\n",
      "\"package 'corrplot' was built under R version 3.6.2\"corrplot 0.84 loaded\n"
     ]
    }
   ],
   "source": [
    "library(corrplot)"
   ]
  },
  {
   "cell_type": "code",
   "execution_count": 64,
   "metadata": {},
   "outputs": [
    {
     "data": {
      "image/png": "[encoded data removed]",
      "text/plain": [
       "Plot with title \"\""
      ]
     },
     "metadata": {},
     "output_type": "display_data"
    }
   ],
   "source": [
    "#correlation plot\n",
    "corrplot(cor_data,method=\"number\")"
   ]
  },
  {
   "cell_type": "code",
   "execution_count": 65,
   "metadata": {},
   "outputs": [
    {
     "data": {
      "image/png": "[encoded data removed]",
      "text/plain": [
       "Plot with title \"\""
      ]
     },
     "metadata": {},
     "output_type": "display_data"
    }
   ],
   "source": [
    "#correlation plot\n",
    "corrplot(cor_data,method=\"ellipse\")"
   ]
  },
  {
   "cell_type": "code",
   "execution_count": 70,
   "metadata": {},
   "outputs": [
    {
     "data": {
      "image/png": "[encoded data removed]",
      "text/plain": [
       "Plot with title \"\""
      ]
     },
     "metadata": {},
     "output_type": "display_data"
    }
   ],
   "source": [
    "#correlation plot\n",
    "corrplot(cor_data,method=\"color\")"
   ]
  },
  {
   "cell_type": "code",
   "execution_count": 67,
   "metadata": {},
   "outputs": [],
   "source": [
    "help(corrplot)"
   ]
  },
  {
   "cell_type": "code",
   "execution_count": null,
   "metadata": {},
   "outputs": [],
   "source": []
  }
 ],
 "metadata": {
  "kernelspec": {
   "display_name": "R",
   "language": "R",
   "name": "ir"
  },
  "language_info": {
   "codemirror_mode": "r",
   "file_extension": ".r",
   "mimetype": "text/x-r-source",
   "name": "R",
   "pygments_lexer": "r",
   "version": "3.6.1"
  }
 },
 "nbformat": 4,
 "nbformat_minor": 2
}
